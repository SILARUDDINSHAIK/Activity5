{
 "cells": [
  {
   "cell_type": "code",
   "execution_count": 9,
   "metadata": {},
   "outputs": [],
   "source": [
    "import os\n",
    "os.environ[\"GIT_PYTHON_REFRESH\"] = \"quiet\"\n",
    "import git\n",
    "import datetime\n",
    "import time\n",
    "\n"
   ]
  },
  {
   "cell_type": "code",
   "execution_count": 10,
   "metadata": {},
   "outputs": [],
   "source": [
    "ex1_path = \"ex1.enc\""
   ]
  },
  {
   "cell_type": "code",
   "execution_count": 11,
   "metadata": {},
   "outputs": [
    {
     "name": "stdout",
     "output_type": "stream",
     "text": [
      "a 13 2%\n",
      "b 23 5%\n",
      "c 38 8%\n",
      "d 23 5%\n",
      "e 15 3%\n",
      "f 48 10%\n",
      "g 36 7%\n",
      "h 9 1%\n",
      "i 10 2%\n",
      "j 8 1%\n",
      "k 6 1%\n",
      "l 2 0%\n",
      "m 23 5%\n",
      "n 42 9%\n",
      "o 27 5%\n",
      "p 16 3%\n",
      "q 12 2%\n",
      "r 17 3%\n",
      "s 20 4%\n",
      "t 9 1%\n",
      "u 2 0%\n",
      "v 5 1%\n",
      "w 18 3%\n",
      "x 13 2%\n",
      "y 8 1%\n",
      "z 13 2%\n",
      "\n",
      "hi bob,how is everything going?are you free this friday night?we are planning to have a party at charlie's place.the idea is to bring what you want to eat and games that you want to play.and have a lot of fun together!feel free to invite more people.hope to see you there!cheers,alice### ouspus:el eae,eav ln hyhwpielvy yalvy?mwh pag bwhh ieln bwlfmp vlyei?vh mwh oumvvlvy ia emyh m omwip mi demwulh'n oumdh.ieh lfhm ln ia ewlvy vemi pag vmvi ia hmi mvf ymchn iemi pag vmvi ia oump.mvf emyh m uai ab bgv iayhiehw!bhhu bwhh ia lvylih cawh ohaouh.eaoh ia nhh pag iehwh!dehhwn,muldh\n"
     ]
    }
   ],
   "source": [
    "import random\n",
    "\n",
    "with open(ex1_path, 'r') as file:\n",
    "    data = file.read().replace('\\n', '')\n",
    "    \n",
    "cipher = \"beijklmprsuvwyz\"\n",
    "real = \"cdfgjklmnpqvwxz\"\n",
    "\n",
    "mappings = [['f','h'], ['c','i'], ['h','b'], ['g', 'e'], ['n', 'a'], ['d', 't'], ['t', 's'], ['q', 'y'], ['a', 'u'], ['x', 'r'], ['r', 'v'], ['s', 'n'], ['z','g'], ['k', 'c'], ['b', 'l'], ['i', 'f'], ['j', 'd'], ['l', 'm']]\n",
    "\n",
    "frequencies = [0]*26\n",
    "\n",
    "data_alphachar_count = 0\n",
    "for c in data:\n",
    "    if (ord(c)-97) > -1 and (ord(c)-97) < 26:\n",
    "        data_alphachar_count += 1\n",
    "        frequencies[ord(c)-97] = frequencies[ord(c)-97]+1\n",
    "    \n",
    "alphabet = \"abcdefghijklmnopqrstuvwxyz\"\n",
    "for i in range(26):\n",
    "    print(alphabet[i], frequencies[i], str(int(100*frequencies[i]/data_alphachar_count))+\"%\")\n",
    "print()\n",
    "\n",
    "results = \"\"\n",
    "for c in data:\n",
    "    found = False\n",
    "    for m in mappings:\n",
    "        if m[0] == c:\n",
    "            results += m[1]\n",
    "            found = True\n",
    "            break\n",
    "    if not found:\n",
    "        results += c\n",
    "print(results)\n"
   ]
  },
  {
   "cell_type": "code",
   "execution_count": 12,
   "metadata": {},
   "outputs": [],
   "source": [
    "ex2=\"ex2.enc\""
   ]
  },
  {
   "cell_type": "code",
   "execution_count": 13,
   "metadata": {},
   "outputs": [],
   "source": [
    "ex3=\"ex3.enc\""
   ]
  },
  {
   "cell_type": "code",
   "execution_count": 22,
   "metadata": {},
   "outputs": [
    {
     "name": "stdout",
     "output_type": "stream",
     "text": [
      "shspgo evfsgm monday\n",
      "zexpgo evfsgm friday\n",
      "mbspgo evfsgm sunday\n",
      "cmbrfch vgfjicf tuesday\n",
      "ecmsec qqzvea monday\n",
      "lzrsec qqzvea friday\n",
      "ywmsec qqzvea sunday\n",
      "attack\n",
      "or\n",
      "retreat\n",
      "wait\n",
      "until\n",
      "monday\n"
     ]
    }
   ],
   "source": [
    "days = [\"monday\", \"tuesday\", \"wednesday\", \"thursday\", \"friday\", \"saturday\", \"sunday\"]\n",
    "\n",
    "alphabet = \"abcdefghijklmnopqrstuvwxyz\"\n",
    "\n",
    "def cipherMessage(cipher, message):\n",
    "    real = \"\"\n",
    "    if len(cipher) == len(message):\n",
    "        for i in range(len(message)):\n",
    "            real +=  alphabet[(ord(cipher[i])-ord(message[i]))%26]\n",
    "    return real\n",
    "\n",
    "with open(ex2, 'r') as file:\n",
    "    data = file.read().replace('\\n', '')\n",
    "\n",
    "for d in data.split(' '):\n",
    "    for day in days:\n",
    "        key = cipherSubMessage(d, day)\n",
    "        if key != \"\":\n",
    "            print(key, d, day)\n",
    "\n",
    "key = \"ecms\"\n",
    "starting_point = [0,2,0,3,3,0]\n",
    "ind = 0\n",
    "for d in data.split(' '):\n",
    "    pointer = starting_point[ind]\n",
    "    k = \"\"\n",
    "    for c in d:\n",
    "        k += key[pointer]\n",
    "        pointer = (pointer + 1)%4\n",
    "    print(cipherSubMessage(d, k))\n",
    "    ind += 1"
   ]
  },
  {
   "cell_type": "code",
   "execution_count": 25,
   "metadata": {},
   "outputs": [],
   "source": [
    "ex3=\"ex3.enc\""
   ]
  },
  {
   "cell_type": "code",
   "execution_count": null,
   "metadata": {},
   "outputs": [],
   "source": [
    "\n"
   ]
  }
 ],
 "metadata": {
  "kernelspec": {
   "display_name": "Python 3",
   "language": "python",
   "name": "python3"
  },
  "language_info": {
   "codemirror_mode": {
    "name": "ipython",
    "version": 3
   },
   "file_extension": ".py",
   "mimetype": "text/x-python",
   "name": "python",
   "nbconvert_exporter": "python",
   "pygments_lexer": "ipython3",
   "version": "3.7.4"
  }
 },
 "nbformat": 4,
 "nbformat_minor": 2
}
